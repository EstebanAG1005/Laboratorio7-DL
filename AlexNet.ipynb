{
  "cells": [
    {
      "cell_type": "markdown",
      "metadata": {
        "id": "view-in-github",
        "colab_type": "text"
      },
      "source": [
        "<a href=\"https://colab.research.google.com/github/EstebanAG1005/Laboratorio7-DL/blob/main/AlexNet.ipynb\" target=\"_parent\"><img src=\"https://colab.research.google.com/assets/colab-badge.svg\" alt=\"Open In Colab\"/></a>"
      ]
    },
    {
      "cell_type": "code",
      "execution_count": null,
      "metadata": {
        "id": "PsSZwAKzYhY3"
      },
      "outputs": [],
      "source": [
        "# AlexNet para CIFAR10\n",
        "\n",
        "# Importando las bibliotecas necesarias\n",
        "import torch\n",
        "import torch.nn as nn\n",
        "import torch.nn.functional as F\n",
        "import torchvision\n",
        "import torchvision.transforms as transforms\n",
        "import torch.optim as optim\n"
      ]
    },
    {
      "cell_type": "code",
      "execution_count": null,
      "metadata": {
        "colab": {
          "base_uri": "https://localhost:8080/"
        },
        "id": "reqjUcgyYhY6",
        "outputId": "c035ffd9-619a-4716-bc33-7d14e6c18b45"
      },
      "outputs": [
        {
          "output_type": "stream",
          "name": "stdout",
          "text": [
            "cuda\n"
          ]
        }
      ],
      "source": [
        "# Configurando el dispositivo\n",
        "device = torch.device('cuda' if torch.cuda.is_available() else 'cpu')\n",
        "print(device)"
      ]
    },
    {
      "cell_type": "code",
      "execution_count": null,
      "metadata": {
        "id": "Sz62JdEqYhY7"
      },
      "outputs": [],
      "source": [
        "# Data augmentation for training set\n",
        "transform_train = transforms.Compose([\n",
        "    transforms.RandomCrop(32, padding=4),\n",
        "    transforms.RandomHorizontalFlip(),\n",
        "    transforms.ToTensor(),\n",
        "    transforms.Normalize((0.5, 0.5, 0.5), (0.5, 0.5, 0.5)),\n",
        "])\n",
        "\n",
        "transform_test = transforms.Compose([\n",
        "    transforms.ToTensor(),\n",
        "    transforms.Normalize((0.5, 0.5, 0.5), (0.5, 0.5, 0.5)),\n",
        "])"
      ]
    },
    {
      "cell_type": "code",
      "execution_count": null,
      "metadata": {
        "colab": {
          "base_uri": "https://localhost:8080/"
        },
        "id": "PjgIL1rIYhY7",
        "outputId": "1020e263-af57-4884-a381-9224c823886a"
      },
      "outputs": [
        {
          "output_type": "stream",
          "name": "stdout",
          "text": [
            "Downloading https://www.cs.toronto.edu/~kriz/cifar-10-python.tar.gz to ./data/cifar-10-python.tar.gz\n"
          ]
        },
        {
          "output_type": "stream",
          "name": "stderr",
          "text": [
            "100%|██████████| 170498071/170498071 [00:01<00:00, 105139303.14it/s]\n"
          ]
        },
        {
          "output_type": "stream",
          "name": "stdout",
          "text": [
            "Extracting ./data/cifar-10-python.tar.gz to ./data\n",
            "Files already downloaded and verified\n"
          ]
        }
      ],
      "source": [
        "# Descargando y cargando el dataset CIFAR10\n",
        "transform = transforms.Compose([transforms.ToTensor(), transforms.Normalize((0.5, 0.5, 0.5), (0.5, 0.5, 0.5))])\n",
        "train_dataset = torchvision.datasets.CIFAR10(root='./data', train=True, download=True, transform=transform)\n",
        "test_dataset = torchvision.datasets.CIFAR10(root='./data', train=False, download=True, transform=transform)\n",
        "train_loader = torch.utils.data.DataLoader(dataset=train_dataset, batch_size=100, shuffle=True)\n",
        "test_loader = torch.utils.data.DataLoader(dataset=test_dataset, batch_size=100, shuffle=False)"
      ]
    },
    {
      "cell_type": "code",
      "execution_count": null,
      "metadata": {
        "id": "c5zLHlRcYhY8"
      },
      "outputs": [],
      "source": [
        "# Definición de AlexNet\n",
        "class ModifiedAlexNet(nn.Module):\n",
        "    def __init__(self, num_classes=10):\n",
        "        super(ModifiedAlexNet, self).__init__()\n",
        "        self.features = nn.Sequential(\n",
        "            nn.Conv2d(3, 64, kernel_size=3, stride=1, padding=1),\n",
        "            nn.BatchNorm2d(64),\n",
        "            nn.ReLU(inplace=True),\n",
        "            nn.MaxPool2d(kernel_size=2, stride=2),\n",
        "            nn.Conv2d(64, 128, kernel_size=3, padding=1),\n",
        "            nn.BatchNorm2d(128),\n",
        "            nn.ReLU(inplace=True),\n",
        "            nn.MaxPool2d(kernel_size=2, stride=2),\n",
        "            nn.Conv2d(128, 256, kernel_size=3, padding=1),\n",
        "            nn.BatchNorm2d(256),\n",
        "            nn.ReLU(inplace=True),\n",
        "        )\n",
        "        self.classifier = nn.Sequential(\n",
        "            nn.Dropout(),\n",
        "            nn.Linear(256 * 8 * 8, 4096),\n",
        "            nn.ReLU(inplace=True),\n",
        "            nn.Dropout(),\n",
        "            nn.Linear(4096, 4096),\n",
        "            nn.ReLU(inplace=True),\n",
        "            nn.Linear(4096, num_classes),\n",
        "        )\n",
        "\n",
        "    def forward(self, x):\n",
        "        x = self.features(x)\n",
        "        x = x.view(x.size(0), -1)\n",
        "        x = self.classifier(x)\n",
        "        return x\n"
      ]
    },
    {
      "cell_type": "code",
      "execution_count": null,
      "metadata": {
        "colab": {
          "base_uri": "https://localhost:8080/"
        },
        "id": "vkdDaq8CYhY8",
        "outputId": "c555a821-b427-4f9a-eec7-2f9c6748680a"
      },
      "outputs": [
        {
          "output_type": "stream",
          "name": "stdout",
          "text": [
            "Epoch [1/75], Loss: 1.4184\n",
            "Epoch [2/75], Loss: 1.3427\n",
            "Epoch [3/75], Loss: 1.2955\n",
            "Epoch [4/75], Loss: 1.0673\n",
            "Epoch [5/75], Loss: 1.2660\n",
            "Epoch [6/75], Loss: 1.0321\n",
            "Epoch [7/75], Loss: 1.0029\n",
            "Epoch [8/75], Loss: 0.7912\n",
            "Epoch [9/75], Loss: 1.0037\n",
            "Epoch [10/75], Loss: 0.7044\n",
            "Epoch [11/75], Loss: 0.7708\n",
            "Epoch [12/75], Loss: 0.7716\n",
            "Epoch [13/75], Loss: 0.4997\n",
            "Epoch [14/75], Loss: 0.4882\n",
            "Epoch [15/75], Loss: 0.7219\n",
            "Epoch [16/75], Loss: 0.4468\n",
            "Epoch [17/75], Loss: 0.4569\n",
            "Epoch [18/75], Loss: 0.4179\n",
            "Epoch [19/75], Loss: 0.4956\n",
            "Epoch [20/75], Loss: 0.4543\n",
            "Epoch [21/75], Loss: 0.3765\n",
            "Epoch [22/75], Loss: 0.3514\n",
            "Epoch [23/75], Loss: 0.4599\n",
            "Epoch [24/75], Loss: 0.4184\n",
            "Epoch [25/75], Loss: 0.2786\n",
            "Epoch [26/75], Loss: 0.4023\n",
            "Epoch [27/75], Loss: 0.4409\n",
            "Epoch [28/75], Loss: 0.2982\n",
            "Epoch [29/75], Loss: 0.4064\n",
            "Epoch [30/75], Loss: 0.2162\n",
            "Epoch [31/75], Loss: 0.1808\n",
            "Epoch [32/75], Loss: 0.2266\n",
            "Epoch [33/75], Loss: 0.1724\n",
            "Epoch [34/75], Loss: 0.3045\n",
            "Epoch [35/75], Loss: 0.3686\n",
            "Epoch [36/75], Loss: 0.0977\n",
            "Epoch [37/75], Loss: 0.1006\n",
            "Epoch [38/75], Loss: 0.1754\n",
            "Epoch [39/75], Loss: 0.0825\n",
            "Epoch [40/75], Loss: 0.3290\n",
            "Epoch [41/75], Loss: 0.1726\n",
            "Epoch [42/75], Loss: 0.0560\n",
            "Epoch [43/75], Loss: 0.2432\n",
            "Epoch [44/75], Loss: 0.0789\n",
            "Epoch [45/75], Loss: 0.1383\n",
            "Epoch [46/75], Loss: 0.1046\n",
            "Epoch [47/75], Loss: 0.2527\n",
            "Epoch [48/75], Loss: 0.1426\n",
            "Epoch [49/75], Loss: 0.0610\n",
            "Epoch [50/75], Loss: 0.1458\n",
            "Epoch [51/75], Loss: 0.1703\n",
            "Epoch [52/75], Loss: 0.1698\n",
            "Epoch [53/75], Loss: 0.0569\n",
            "Epoch [54/75], Loss: 0.1247\n",
            "Epoch [55/75], Loss: 0.0889\n",
            "Epoch [56/75], Loss: 0.0083\n",
            "Epoch [57/75], Loss: 0.0582\n",
            "Epoch [58/75], Loss: 0.0292\n",
            "Epoch [59/75], Loss: 0.0739\n",
            "Epoch [60/75], Loss: 0.0451\n",
            "Epoch [61/75], Loss: 0.1105\n",
            "Epoch [62/75], Loss: 0.0106\n",
            "Epoch [63/75], Loss: 0.0146\n",
            "Epoch [64/75], Loss: 0.0151\n",
            "Epoch [65/75], Loss: 0.0575\n",
            "Epoch [66/75], Loss: 0.0662\n",
            "Epoch [67/75], Loss: 0.0021\n",
            "Epoch [68/75], Loss: 0.0681\n",
            "Epoch [69/75], Loss: 0.0105\n",
            "Epoch [70/75], Loss: 0.0411\n",
            "Epoch [71/75], Loss: 0.0052\n",
            "Epoch [72/75], Loss: 0.0493\n",
            "Epoch [73/75], Loss: 0.0162\n",
            "Epoch [74/75], Loss: 0.0712\n",
            "Epoch [75/75], Loss: 0.0529\n"
          ]
        }
      ],
      "source": [
        "model = ModifiedAlexNet().to(device)\n",
        "criterion = nn.CrossEntropyLoss()\n",
        "optimizer = optim.Adam(model.parameters(), lr=0.001)\n",
        "scheduler = optim.lr_scheduler.ReduceLROnPlateau(optimizer, 'min')\n",
        "\n",
        "# Training for more epochs\n",
        "num_epochs = 75\n",
        "for epoch in range(num_epochs):\n",
        "    for i, (images, labels) in enumerate(train_loader):\n",
        "        images = images.to(device)\n",
        "        labels = labels.to(device)\n",
        "\n",
        "        outputs = model(images)\n",
        "        loss = criterion(outputs, labels)\n",
        "\n",
        "        optimizer.zero_grad()\n",
        "        loss.backward()\n",
        "        optimizer.step()\n",
        "\n",
        "    # Adjust learning rate based on the loss\n",
        "    scheduler.step(loss)\n",
        "\n",
        "    print(f'Epoch [{epoch+1}/{num_epochs}], Loss: {loss.item():.4f}')"
      ]
    },
    {
      "cell_type": "code",
      "execution_count": null,
      "metadata": {
        "id": "QVCUC1bwYhY9",
        "colab": {
          "base_uri": "https://localhost:8080/"
        },
        "outputId": "4ef8d322-61e4-4e47-979c-ee83a5811e79"
      },
      "outputs": [
        {
          "output_type": "stream",
          "name": "stdout",
          "text": [
            "Accuracy of the model on the 10000 test images: 81.27 %\n"
          ]
        }
      ],
      "source": [
        "# Métrica de desempeño: Precisión (Accuracy)\n",
        "with torch.no_grad():\n",
        "    correct = 0\n",
        "    total = 0\n",
        "    for images, labels in test_loader:\n",
        "        images = images.to(device)\n",
        "        labels = labels.to(device)\n",
        "        outputs = model(images)\n",
        "        _, predicted = torch.max(outputs.data, 1)\n",
        "        total += labels.size(0)\n",
        "        correct += (predicted == labels).sum().item()\n",
        "\n",
        "    print(f'Accuracy of the model on the 10000 test images: {100 * correct / total} %')"
      ]
    }
  ],
  "metadata": {
    "kernelspec": {
      "display_name": "Python 3",
      "name": "python3"
    },
    "language_info": {
      "codemirror_mode": {
        "name": "ipython",
        "version": 3
      },
      "file_extension": ".py",
      "mimetype": "text/x-python",
      "name": "python",
      "nbconvert_exporter": "python",
      "pygments_lexer": "ipython3",
      "version": "3.10.4"
    },
    "orig_nbformat": 4,
    "colab": {
      "provenance": [],
      "gpuType": "T4",
      "include_colab_link": true
    },
    "accelerator": "GPU"
  },
  "nbformat": 4,
  "nbformat_minor": 0
}